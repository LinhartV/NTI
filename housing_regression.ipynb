{
  "cells": [
    {
      "cell_type": "code",
      "execution_count": 159,
      "metadata": {
        "colab": {
          "base_uri": "https://localhost:8080/"
        },
        "id": "XkW93ksidj-Q",
        "outputId": "73032828-fbc7-4600-bf2e-8169e582874e"
      },
      "outputs": [
        {
          "output_type": "stream",
          "name": "stdout",
          "text": [
            "Drive already mounted at /content/drive; to attempt to forcibly remount, call drive.mount(\"/content/drive\", force_remount=True).\n",
            "/content/drive/My Drive/Colab Notebooks/assignments\n"
          ]
        }
      ],
      "source": [
        "# This mounts your Google Drive to the Colab VM.\n",
        "from google.colab import drive\n",
        "drive.mount('/content/drive')\n",
        "\n",
        "# TODO: Enter the foldername in your Drive where you have saved the unzipped\n",
        "# assignment folder, e.g. 'cs231n/assignments/assignment1/'\n",
        "FOLDERNAME = 'Colab Notebooks/assignments'\n",
        "assert FOLDERNAME is not None, \"[!] Enter the foldername.\"\n",
        "\n",
        "# Now that we've mounted your Drive, this ensures that\n",
        "# the Python interpreter of the Colab VM can load\n",
        "# python files from within it.\n",
        "import sys\n",
        "sys.path.append('/content/drive/My Drive/{}'.format(FOLDERNAME))\n",
        "\n",
        "%cd /content/drive/My\\ Drive/$FOLDERNAME"
      ]
    },
    {
      "cell_type": "code",
      "execution_count": 160,
      "metadata": {
        "colab": {
          "base_uri": "https://localhost:8080/"
        },
        "id": "hCz6CFBddj-T",
        "outputId": "e51bf71a-3833-4754-9c91-cbc82cd28855"
      },
      "outputs": [
        {
          "output_type": "stream",
          "name": "stdout",
          "text": [
            "/content/drive/My Drive/Colab Notebooks/assignments\n"
          ]
        }
      ],
      "source": [
        "!pwd"
      ]
    },
    {
      "cell_type": "markdown",
      "metadata": {
        "id": "teoC-cA6dj-U"
      },
      "source": [
        "# Ames Housing Dataset - Regrese\n",
        "\n",
        "Notebook se venuje linearni regresi na datasetu prodeje domu v meste Ames. Pro nase ucely postaci prilozeny zjednoduseny datset.\n",
        "\n",
        "Par zdroju na uvod:\n",
        "- [Cely dataset](https://jse.amstat.org/v19n3/decock/AmesHousing.txt)\n",
        "- [Feature description](https://jse.amstat.org/v19n3/decock/DataDocumentation.txt)\n",
        "- [Clanek](https://jse.amstat.org/v19n3/decock.pdf)\n"
      ]
    },
    {
      "cell_type": "markdown",
      "metadata": {
        "id": "IbQq6TiSdj-V"
      },
      "source": [
        "Nacteni knihoven:"
      ]
    },
    {
      "cell_type": "code",
      "execution_count": 161,
      "metadata": {
        "id": "rkb5d4fmdj-V"
      },
      "outputs": [],
      "source": [
        "import numpy as np\n",
        "import pandas as pd\n",
        "import matplotlib.pyplot as plt\n",
        "%matplotlib inline"
      ]
    },
    {
      "cell_type": "markdown",
      "metadata": {
        "id": "8q9H-8vjdj-W"
      },
      "source": [
        "Nacteni zjednoduseneho datasetu z csv souboru"
      ]
    },
    {
      "cell_type": "code",
      "execution_count": 162,
      "metadata": {
        "id": "wCAlmqCgdj-W"
      },
      "outputs": [],
      "source": [
        "df = pd.read_csv('ames_simple.csv', index_col=0)"
      ]
    },
    {
      "cell_type": "markdown",
      "metadata": {
        "id": "v5rYwQZtdj-W"
      },
      "source": [
        "Spravne bychom si na novem datasetu meli udelat tzv. Exploratory Data Analysis (EDA), tj. prozkoumat data. My si data jen zevrubne popiseme, ale lze najit spoustu zajimavych prikladu - napr [zde](https://www.kaggle.com/code/sanidhyajadaun/housing-price-prediction-using-linear-regression/notebook) na podobnem datasetu nebo [tady](https://www.kaggle.com/code/harrywang/housing-price-prediction/notebook) na California Housing datasetu.\n",
        "\n",
        "Vypiseme si prvnich a poslednich 5 radku v tabulce"
      ]
    },
    {
      "cell_type": "code",
      "execution_count": 163,
      "metadata": {
        "colab": {
          "base_uri": "https://localhost:8080/",
          "height": 206
        },
        "id": "xrhL9s1tdj-W",
        "outputId": "359592e4-6cf4-40ab-b321-a77c1da3a5e9"
      },
      "outputs": [
        {
          "output_type": "execute_result",
          "data": {
            "text/plain": [
              "   basement_sf  living_area_sf  price\n",
              "0       1080.0            1656  215.0\n",
              "1        882.0             896  105.0\n",
              "2       1329.0            1329  172.0\n",
              "3       2110.0            2110  244.0\n",
              "4        928.0            1629  189.9"
            ],
            "text/html": [
              "\n",
              "  <div id=\"df-63598bdf-0a23-4f79-97d6-ddf358c67e13\" class=\"colab-df-container\">\n",
              "    <div>\n",
              "<style scoped>\n",
              "    .dataframe tbody tr th:only-of-type {\n",
              "        vertical-align: middle;\n",
              "    }\n",
              "\n",
              "    .dataframe tbody tr th {\n",
              "        vertical-align: top;\n",
              "    }\n",
              "\n",
              "    .dataframe thead th {\n",
              "        text-align: right;\n",
              "    }\n",
              "</style>\n",
              "<table border=\"1\" class=\"dataframe\">\n",
              "  <thead>\n",
              "    <tr style=\"text-align: right;\">\n",
              "      <th></th>\n",
              "      <th>basement_sf</th>\n",
              "      <th>living_area_sf</th>\n",
              "      <th>price</th>\n",
              "    </tr>\n",
              "  </thead>\n",
              "  <tbody>\n",
              "    <tr>\n",
              "      <th>0</th>\n",
              "      <td>1080.0</td>\n",
              "      <td>1656</td>\n",
              "      <td>215.0</td>\n",
              "    </tr>\n",
              "    <tr>\n",
              "      <th>1</th>\n",
              "      <td>882.0</td>\n",
              "      <td>896</td>\n",
              "      <td>105.0</td>\n",
              "    </tr>\n",
              "    <tr>\n",
              "      <th>2</th>\n",
              "      <td>1329.0</td>\n",
              "      <td>1329</td>\n",
              "      <td>172.0</td>\n",
              "    </tr>\n",
              "    <tr>\n",
              "      <th>3</th>\n",
              "      <td>2110.0</td>\n",
              "      <td>2110</td>\n",
              "      <td>244.0</td>\n",
              "    </tr>\n",
              "    <tr>\n",
              "      <th>4</th>\n",
              "      <td>928.0</td>\n",
              "      <td>1629</td>\n",
              "      <td>189.9</td>\n",
              "    </tr>\n",
              "  </tbody>\n",
              "</table>\n",
              "</div>\n",
              "    <div class=\"colab-df-buttons\">\n",
              "\n",
              "  <div class=\"colab-df-container\">\n",
              "    <button class=\"colab-df-convert\" onclick=\"convertToInteractive('df-63598bdf-0a23-4f79-97d6-ddf358c67e13')\"\n",
              "            title=\"Convert this dataframe to an interactive table.\"\n",
              "            style=\"display:none;\">\n",
              "\n",
              "  <svg xmlns=\"http://www.w3.org/2000/svg\" height=\"24px\" viewBox=\"0 -960 960 960\">\n",
              "    <path d=\"M120-120v-720h720v720H120Zm60-500h600v-160H180v160Zm220 220h160v-160H400v160Zm0 220h160v-160H400v160ZM180-400h160v-160H180v160Zm440 0h160v-160H620v160ZM180-180h160v-160H180v160Zm440 0h160v-160H620v160Z\"/>\n",
              "  </svg>\n",
              "    </button>\n",
              "\n",
              "  <style>\n",
              "    .colab-df-container {\n",
              "      display:flex;\n",
              "      gap: 12px;\n",
              "    }\n",
              "\n",
              "    .colab-df-convert {\n",
              "      background-color: #E8F0FE;\n",
              "      border: none;\n",
              "      border-radius: 50%;\n",
              "      cursor: pointer;\n",
              "      display: none;\n",
              "      fill: #1967D2;\n",
              "      height: 32px;\n",
              "      padding: 0 0 0 0;\n",
              "      width: 32px;\n",
              "    }\n",
              "\n",
              "    .colab-df-convert:hover {\n",
              "      background-color: #E2EBFA;\n",
              "      box-shadow: 0px 1px 2px rgba(60, 64, 67, 0.3), 0px 1px 3px 1px rgba(60, 64, 67, 0.15);\n",
              "      fill: #174EA6;\n",
              "    }\n",
              "\n",
              "    .colab-df-buttons div {\n",
              "      margin-bottom: 4px;\n",
              "    }\n",
              "\n",
              "    [theme=dark] .colab-df-convert {\n",
              "      background-color: #3B4455;\n",
              "      fill: #D2E3FC;\n",
              "    }\n",
              "\n",
              "    [theme=dark] .colab-df-convert:hover {\n",
              "      background-color: #434B5C;\n",
              "      box-shadow: 0px 1px 3px 1px rgba(0, 0, 0, 0.15);\n",
              "      filter: drop-shadow(0px 1px 2px rgba(0, 0, 0, 0.3));\n",
              "      fill: #FFFFFF;\n",
              "    }\n",
              "  </style>\n",
              "\n",
              "    <script>\n",
              "      const buttonEl =\n",
              "        document.querySelector('#df-63598bdf-0a23-4f79-97d6-ddf358c67e13 button.colab-df-convert');\n",
              "      buttonEl.style.display =\n",
              "        google.colab.kernel.accessAllowed ? 'block' : 'none';\n",
              "\n",
              "      async function convertToInteractive(key) {\n",
              "        const element = document.querySelector('#df-63598bdf-0a23-4f79-97d6-ddf358c67e13');\n",
              "        const dataTable =\n",
              "          await google.colab.kernel.invokeFunction('convertToInteractive',\n",
              "                                                    [key], {});\n",
              "        if (!dataTable) return;\n",
              "\n",
              "        const docLinkHtml = 'Like what you see? Visit the ' +\n",
              "          '<a target=\"_blank\" href=https://colab.research.google.com/notebooks/data_table.ipynb>data table notebook</a>'\n",
              "          + ' to learn more about interactive tables.';\n",
              "        element.innerHTML = '';\n",
              "        dataTable['output_type'] = 'display_data';\n",
              "        await google.colab.output.renderOutput(dataTable, element);\n",
              "        const docLink = document.createElement('div');\n",
              "        docLink.innerHTML = docLinkHtml;\n",
              "        element.appendChild(docLink);\n",
              "      }\n",
              "    </script>\n",
              "  </div>\n",
              "\n",
              "\n",
              "<div id=\"df-b4bab14c-1750-4223-859e-0e289146dfeb\">\n",
              "  <button class=\"colab-df-quickchart\" onclick=\"quickchart('df-b4bab14c-1750-4223-859e-0e289146dfeb')\"\n",
              "            title=\"Suggest charts\"\n",
              "            style=\"display:none;\">\n",
              "\n",
              "<svg xmlns=\"http://www.w3.org/2000/svg\" height=\"24px\"viewBox=\"0 0 24 24\"\n",
              "     width=\"24px\">\n",
              "    <g>\n",
              "        <path d=\"M19 3H5c-1.1 0-2 .9-2 2v14c0 1.1.9 2 2 2h14c1.1 0 2-.9 2-2V5c0-1.1-.9-2-2-2zM9 17H7v-7h2v7zm4 0h-2V7h2v10zm4 0h-2v-4h2v4z\"/>\n",
              "    </g>\n",
              "</svg>\n",
              "  </button>\n",
              "\n",
              "<style>\n",
              "  .colab-df-quickchart {\n",
              "      --bg-color: #E8F0FE;\n",
              "      --fill-color: #1967D2;\n",
              "      --hover-bg-color: #E2EBFA;\n",
              "      --hover-fill-color: #174EA6;\n",
              "      --disabled-fill-color: #AAA;\n",
              "      --disabled-bg-color: #DDD;\n",
              "  }\n",
              "\n",
              "  [theme=dark] .colab-df-quickchart {\n",
              "      --bg-color: #3B4455;\n",
              "      --fill-color: #D2E3FC;\n",
              "      --hover-bg-color: #434B5C;\n",
              "      --hover-fill-color: #FFFFFF;\n",
              "      --disabled-bg-color: #3B4455;\n",
              "      --disabled-fill-color: #666;\n",
              "  }\n",
              "\n",
              "  .colab-df-quickchart {\n",
              "    background-color: var(--bg-color);\n",
              "    border: none;\n",
              "    border-radius: 50%;\n",
              "    cursor: pointer;\n",
              "    display: none;\n",
              "    fill: var(--fill-color);\n",
              "    height: 32px;\n",
              "    padding: 0;\n",
              "    width: 32px;\n",
              "  }\n",
              "\n",
              "  .colab-df-quickchart:hover {\n",
              "    background-color: var(--hover-bg-color);\n",
              "    box-shadow: 0 1px 2px rgba(60, 64, 67, 0.3), 0 1px 3px 1px rgba(60, 64, 67, 0.15);\n",
              "    fill: var(--button-hover-fill-color);\n",
              "  }\n",
              "\n",
              "  .colab-df-quickchart-complete:disabled,\n",
              "  .colab-df-quickchart-complete:disabled:hover {\n",
              "    background-color: var(--disabled-bg-color);\n",
              "    fill: var(--disabled-fill-color);\n",
              "    box-shadow: none;\n",
              "  }\n",
              "\n",
              "  .colab-df-spinner {\n",
              "    border: 2px solid var(--fill-color);\n",
              "    border-color: transparent;\n",
              "    border-bottom-color: var(--fill-color);\n",
              "    animation:\n",
              "      spin 1s steps(1) infinite;\n",
              "  }\n",
              "\n",
              "  @keyframes spin {\n",
              "    0% {\n",
              "      border-color: transparent;\n",
              "      border-bottom-color: var(--fill-color);\n",
              "      border-left-color: var(--fill-color);\n",
              "    }\n",
              "    20% {\n",
              "      border-color: transparent;\n",
              "      border-left-color: var(--fill-color);\n",
              "      border-top-color: var(--fill-color);\n",
              "    }\n",
              "    30% {\n",
              "      border-color: transparent;\n",
              "      border-left-color: var(--fill-color);\n",
              "      border-top-color: var(--fill-color);\n",
              "      border-right-color: var(--fill-color);\n",
              "    }\n",
              "    40% {\n",
              "      border-color: transparent;\n",
              "      border-right-color: var(--fill-color);\n",
              "      border-top-color: var(--fill-color);\n",
              "    }\n",
              "    60% {\n",
              "      border-color: transparent;\n",
              "      border-right-color: var(--fill-color);\n",
              "    }\n",
              "    80% {\n",
              "      border-color: transparent;\n",
              "      border-right-color: var(--fill-color);\n",
              "      border-bottom-color: var(--fill-color);\n",
              "    }\n",
              "    90% {\n",
              "      border-color: transparent;\n",
              "      border-bottom-color: var(--fill-color);\n",
              "    }\n",
              "  }\n",
              "</style>\n",
              "\n",
              "  <script>\n",
              "    async function quickchart(key) {\n",
              "      const quickchartButtonEl =\n",
              "        document.querySelector('#' + key + ' button');\n",
              "      quickchartButtonEl.disabled = true;  // To prevent multiple clicks.\n",
              "      quickchartButtonEl.classList.add('colab-df-spinner');\n",
              "      try {\n",
              "        const charts = await google.colab.kernel.invokeFunction(\n",
              "            'suggestCharts', [key], {});\n",
              "      } catch (error) {\n",
              "        console.error('Error during call to suggestCharts:', error);\n",
              "      }\n",
              "      quickchartButtonEl.classList.remove('colab-df-spinner');\n",
              "      quickchartButtonEl.classList.add('colab-df-quickchart-complete');\n",
              "    }\n",
              "    (() => {\n",
              "      let quickchartButtonEl =\n",
              "        document.querySelector('#df-b4bab14c-1750-4223-859e-0e289146dfeb button');\n",
              "      quickchartButtonEl.style.display =\n",
              "        google.colab.kernel.accessAllowed ? 'block' : 'none';\n",
              "    })();\n",
              "  </script>\n",
              "</div>\n",
              "    </div>\n",
              "  </div>\n"
            ]
          },
          "metadata": {},
          "execution_count": 163
        }
      ],
      "source": [
        "df.head()"
      ]
    },
    {
      "cell_type": "code",
      "execution_count": 164,
      "metadata": {
        "colab": {
          "base_uri": "https://localhost:8080/",
          "height": 206
        },
        "id": "THyBU75jdj-X",
        "outputId": "bd174629-185d-4c57-b690-e02d922ac0a7"
      },
      "outputs": [
        {
          "output_type": "execute_result",
          "data": {
            "text/plain": [
              "      basement_sf  living_area_sf  price\n",
              "2869       1003.0            1003  142.5\n",
              "2870        864.0             902  131.0\n",
              "2871        912.0             970  132.0\n",
              "2872       1389.0            1389  170.0\n",
              "2873        996.0            2000  188.0"
            ],
            "text/html": [
              "\n",
              "  <div id=\"df-28676bf7-e0ca-4b58-b8aa-02383885a709\" class=\"colab-df-container\">\n",
              "    <div>\n",
              "<style scoped>\n",
              "    .dataframe tbody tr th:only-of-type {\n",
              "        vertical-align: middle;\n",
              "    }\n",
              "\n",
              "    .dataframe tbody tr th {\n",
              "        vertical-align: top;\n",
              "    }\n",
              "\n",
              "    .dataframe thead th {\n",
              "        text-align: right;\n",
              "    }\n",
              "</style>\n",
              "<table border=\"1\" class=\"dataframe\">\n",
              "  <thead>\n",
              "    <tr style=\"text-align: right;\">\n",
              "      <th></th>\n",
              "      <th>basement_sf</th>\n",
              "      <th>living_area_sf</th>\n",
              "      <th>price</th>\n",
              "    </tr>\n",
              "  </thead>\n",
              "  <tbody>\n",
              "    <tr>\n",
              "      <th>2869</th>\n",
              "      <td>1003.0</td>\n",
              "      <td>1003</td>\n",
              "      <td>142.5</td>\n",
              "    </tr>\n",
              "    <tr>\n",
              "      <th>2870</th>\n",
              "      <td>864.0</td>\n",
              "      <td>902</td>\n",
              "      <td>131.0</td>\n",
              "    </tr>\n",
              "    <tr>\n",
              "      <th>2871</th>\n",
              "      <td>912.0</td>\n",
              "      <td>970</td>\n",
              "      <td>132.0</td>\n",
              "    </tr>\n",
              "    <tr>\n",
              "      <th>2872</th>\n",
              "      <td>1389.0</td>\n",
              "      <td>1389</td>\n",
              "      <td>170.0</td>\n",
              "    </tr>\n",
              "    <tr>\n",
              "      <th>2873</th>\n",
              "      <td>996.0</td>\n",
              "      <td>2000</td>\n",
              "      <td>188.0</td>\n",
              "    </tr>\n",
              "  </tbody>\n",
              "</table>\n",
              "</div>\n",
              "    <div class=\"colab-df-buttons\">\n",
              "\n",
              "  <div class=\"colab-df-container\">\n",
              "    <button class=\"colab-df-convert\" onclick=\"convertToInteractive('df-28676bf7-e0ca-4b58-b8aa-02383885a709')\"\n",
              "            title=\"Convert this dataframe to an interactive table.\"\n",
              "            style=\"display:none;\">\n",
              "\n",
              "  <svg xmlns=\"http://www.w3.org/2000/svg\" height=\"24px\" viewBox=\"0 -960 960 960\">\n",
              "    <path d=\"M120-120v-720h720v720H120Zm60-500h600v-160H180v160Zm220 220h160v-160H400v160Zm0 220h160v-160H400v160ZM180-400h160v-160H180v160Zm440 0h160v-160H620v160ZM180-180h160v-160H180v160Zm440 0h160v-160H620v160Z\"/>\n",
              "  </svg>\n",
              "    </button>\n",
              "\n",
              "  <style>\n",
              "    .colab-df-container {\n",
              "      display:flex;\n",
              "      gap: 12px;\n",
              "    }\n",
              "\n",
              "    .colab-df-convert {\n",
              "      background-color: #E8F0FE;\n",
              "      border: none;\n",
              "      border-radius: 50%;\n",
              "      cursor: pointer;\n",
              "      display: none;\n",
              "      fill: #1967D2;\n",
              "      height: 32px;\n",
              "      padding: 0 0 0 0;\n",
              "      width: 32px;\n",
              "    }\n",
              "\n",
              "    .colab-df-convert:hover {\n",
              "      background-color: #E2EBFA;\n",
              "      box-shadow: 0px 1px 2px rgba(60, 64, 67, 0.3), 0px 1px 3px 1px rgba(60, 64, 67, 0.15);\n",
              "      fill: #174EA6;\n",
              "    }\n",
              "\n",
              "    .colab-df-buttons div {\n",
              "      margin-bottom: 4px;\n",
              "    }\n",
              "\n",
              "    [theme=dark] .colab-df-convert {\n",
              "      background-color: #3B4455;\n",
              "      fill: #D2E3FC;\n",
              "    }\n",
              "\n",
              "    [theme=dark] .colab-df-convert:hover {\n",
              "      background-color: #434B5C;\n",
              "      box-shadow: 0px 1px 3px 1px rgba(0, 0, 0, 0.15);\n",
              "      filter: drop-shadow(0px 1px 2px rgba(0, 0, 0, 0.3));\n",
              "      fill: #FFFFFF;\n",
              "    }\n",
              "  </style>\n",
              "\n",
              "    <script>\n",
              "      const buttonEl =\n",
              "        document.querySelector('#df-28676bf7-e0ca-4b58-b8aa-02383885a709 button.colab-df-convert');\n",
              "      buttonEl.style.display =\n",
              "        google.colab.kernel.accessAllowed ? 'block' : 'none';\n",
              "\n",
              "      async function convertToInteractive(key) {\n",
              "        const element = document.querySelector('#df-28676bf7-e0ca-4b58-b8aa-02383885a709');\n",
              "        const dataTable =\n",
              "          await google.colab.kernel.invokeFunction('convertToInteractive',\n",
              "                                                    [key], {});\n",
              "        if (!dataTable) return;\n",
              "\n",
              "        const docLinkHtml = 'Like what you see? Visit the ' +\n",
              "          '<a target=\"_blank\" href=https://colab.research.google.com/notebooks/data_table.ipynb>data table notebook</a>'\n",
              "          + ' to learn more about interactive tables.';\n",
              "        element.innerHTML = '';\n",
              "        dataTable['output_type'] = 'display_data';\n",
              "        await google.colab.output.renderOutput(dataTable, element);\n",
              "        const docLink = document.createElement('div');\n",
              "        docLink.innerHTML = docLinkHtml;\n",
              "        element.appendChild(docLink);\n",
              "      }\n",
              "    </script>\n",
              "  </div>\n",
              "\n",
              "\n",
              "<div id=\"df-fdee5028-2472-44b7-ad0d-fd019d5421c4\">\n",
              "  <button class=\"colab-df-quickchart\" onclick=\"quickchart('df-fdee5028-2472-44b7-ad0d-fd019d5421c4')\"\n",
              "            title=\"Suggest charts\"\n",
              "            style=\"display:none;\">\n",
              "\n",
              "<svg xmlns=\"http://www.w3.org/2000/svg\" height=\"24px\"viewBox=\"0 0 24 24\"\n",
              "     width=\"24px\">\n",
              "    <g>\n",
              "        <path d=\"M19 3H5c-1.1 0-2 .9-2 2v14c0 1.1.9 2 2 2h14c1.1 0 2-.9 2-2V5c0-1.1-.9-2-2-2zM9 17H7v-7h2v7zm4 0h-2V7h2v10zm4 0h-2v-4h2v4z\"/>\n",
              "    </g>\n",
              "</svg>\n",
              "  </button>\n",
              "\n",
              "<style>\n",
              "  .colab-df-quickchart {\n",
              "      --bg-color: #E8F0FE;\n",
              "      --fill-color: #1967D2;\n",
              "      --hover-bg-color: #E2EBFA;\n",
              "      --hover-fill-color: #174EA6;\n",
              "      --disabled-fill-color: #AAA;\n",
              "      --disabled-bg-color: #DDD;\n",
              "  }\n",
              "\n",
              "  [theme=dark] .colab-df-quickchart {\n",
              "      --bg-color: #3B4455;\n",
              "      --fill-color: #D2E3FC;\n",
              "      --hover-bg-color: #434B5C;\n",
              "      --hover-fill-color: #FFFFFF;\n",
              "      --disabled-bg-color: #3B4455;\n",
              "      --disabled-fill-color: #666;\n",
              "  }\n",
              "\n",
              "  .colab-df-quickchart {\n",
              "    background-color: var(--bg-color);\n",
              "    border: none;\n",
              "    border-radius: 50%;\n",
              "    cursor: pointer;\n",
              "    display: none;\n",
              "    fill: var(--fill-color);\n",
              "    height: 32px;\n",
              "    padding: 0;\n",
              "    width: 32px;\n",
              "  }\n",
              "\n",
              "  .colab-df-quickchart:hover {\n",
              "    background-color: var(--hover-bg-color);\n",
              "    box-shadow: 0 1px 2px rgba(60, 64, 67, 0.3), 0 1px 3px 1px rgba(60, 64, 67, 0.15);\n",
              "    fill: var(--button-hover-fill-color);\n",
              "  }\n",
              "\n",
              "  .colab-df-quickchart-complete:disabled,\n",
              "  .colab-df-quickchart-complete:disabled:hover {\n",
              "    background-color: var(--disabled-bg-color);\n",
              "    fill: var(--disabled-fill-color);\n",
              "    box-shadow: none;\n",
              "  }\n",
              "\n",
              "  .colab-df-spinner {\n",
              "    border: 2px solid var(--fill-color);\n",
              "    border-color: transparent;\n",
              "    border-bottom-color: var(--fill-color);\n",
              "    animation:\n",
              "      spin 1s steps(1) infinite;\n",
              "  }\n",
              "\n",
              "  @keyframes spin {\n",
              "    0% {\n",
              "      border-color: transparent;\n",
              "      border-bottom-color: var(--fill-color);\n",
              "      border-left-color: var(--fill-color);\n",
              "    }\n",
              "    20% {\n",
              "      border-color: transparent;\n",
              "      border-left-color: var(--fill-color);\n",
              "      border-top-color: var(--fill-color);\n",
              "    }\n",
              "    30% {\n",
              "      border-color: transparent;\n",
              "      border-left-color: var(--fill-color);\n",
              "      border-top-color: var(--fill-color);\n",
              "      border-right-color: var(--fill-color);\n",
              "    }\n",
              "    40% {\n",
              "      border-color: transparent;\n",
              "      border-right-color: var(--fill-color);\n",
              "      border-top-color: var(--fill-color);\n",
              "    }\n",
              "    60% {\n",
              "      border-color: transparent;\n",
              "      border-right-color: var(--fill-color);\n",
              "    }\n",
              "    80% {\n",
              "      border-color: transparent;\n",
              "      border-right-color: var(--fill-color);\n",
              "      border-bottom-color: var(--fill-color);\n",
              "    }\n",
              "    90% {\n",
              "      border-color: transparent;\n",
              "      border-bottom-color: var(--fill-color);\n",
              "    }\n",
              "  }\n",
              "</style>\n",
              "\n",
              "  <script>\n",
              "    async function quickchart(key) {\n",
              "      const quickchartButtonEl =\n",
              "        document.querySelector('#' + key + ' button');\n",
              "      quickchartButtonEl.disabled = true;  // To prevent multiple clicks.\n",
              "      quickchartButtonEl.classList.add('colab-df-spinner');\n",
              "      try {\n",
              "        const charts = await google.colab.kernel.invokeFunction(\n",
              "            'suggestCharts', [key], {});\n",
              "      } catch (error) {\n",
              "        console.error('Error during call to suggestCharts:', error);\n",
              "      }\n",
              "      quickchartButtonEl.classList.remove('colab-df-spinner');\n",
              "      quickchartButtonEl.classList.add('colab-df-quickchart-complete');\n",
              "    }\n",
              "    (() => {\n",
              "      let quickchartButtonEl =\n",
              "        document.querySelector('#df-fdee5028-2472-44b7-ad0d-fd019d5421c4 button');\n",
              "      quickchartButtonEl.style.display =\n",
              "        google.colab.kernel.accessAllowed ? 'block' : 'none';\n",
              "    })();\n",
              "  </script>\n",
              "</div>\n",
              "    </div>\n",
              "  </div>\n"
            ]
          },
          "metadata": {},
          "execution_count": 164
        }
      ],
      "source": [
        "df.tail()"
      ]
    },
    {
      "cell_type": "code",
      "execution_count": 165,
      "metadata": {
        "colab": {
          "base_uri": "https://localhost:8080/"
        },
        "id": "E8JyFQxrdj-X",
        "outputId": "685a0758-73f0-47cb-d896-05612bdfcebb"
      },
      "outputs": [
        {
          "output_type": "execute_result",
          "data": {
            "text/plain": [
              "2874"
            ]
          },
          "metadata": {},
          "execution_count": 165
        }
      ],
      "source": [
        "len(df.index)"
      ]
    },
    {
      "cell_type": "markdown",
      "metadata": {
        "id": "93c0Jf6Kdj-X"
      },
      "source": [
        "Dataset obsahuje celkem 2874 zazmamu pro 3 featury:\n",
        "- ``'basement_sf'``: plocha sklepa domu ve ctverecnich stopach (puvodni nazev ``'Total Bsmt SF'``)\n",
        "- ``'living_area_sf'``: nadzemni obytna plocha ve ctverecnich stopach (puvodni nazev ``'Gr Liv Area'``)\n",
        "- ``'price'``: cena za kterou se dum prodal v tisicich dolarech (puvodni nazev ``'SalePrice'``)\n",
        "\n",
        "Zjevne zavislosti nam demonstruji scatterploty nize"
      ]
    },
    {
      "cell_type": "code",
      "execution_count": 166,
      "metadata": {
        "colab": {
          "base_uri": "https://localhost:8080/",
          "height": 472
        },
        "id": "4eigmRy6dj-Y",
        "outputId": "1ec3f4c9-423c-4efd-b988-94015058284b"
      },
      "outputs": [
        {
          "output_type": "display_data",
          "data": {
            "text/plain": [
              "<Figure size 640x480 with 1 Axes>"
            ],
            "image/png": "[encoded data removed]"
          },
          "metadata": {}
        }
      ],
      "source": [
        "plt.scatter(df.basement_sf, df.price, marker='x', c='b')\n",
        "plt.title('Cena v zavislosti na plose sklepa')\n",
        "plt.xlabel('basement_sf')\n",
        "plt.ylabel('price')\n",
        "plt.show()"
      ]
    },
    {
      "cell_type": "code",
      "execution_count": 167,
      "metadata": {
        "colab": {
          "base_uri": "https://localhost:8080/",
          "height": 472
        },
        "id": "Syn9Y_n2dj-Y",
        "outputId": "78d60f99-fb65-4bd9-81da-475f17022fd3"
      },
      "outputs": [
        {
          "output_type": "display_data",
          "data": {
            "text/plain": [
              "<Figure size 640x480 with 1 Axes>"
            ],
            "image/png": "[encoded data removed]"
          },
          "metadata": {}
        }
      ],
      "source": [
        "plt.scatter(df.living_area_sf, df.price, marker='x', c='g')\n",
        "plt.title('Cena v zavislosti na nadzemni obytne plose')\n",
        "plt.xlabel('living_area_sf')\n",
        "plt.ylabel('price')\n",
        "plt.show()"
      ]
    },
    {
      "cell_type": "markdown",
      "metadata": {
        "id": "jX446MI7dj-Z"
      },
      "source": [
        "Data si rozdelime na trenovaci a testovaci mnozinu a vlozime do prihodne nazvanych promennych."
      ]
    },
    {
      "cell_type": "code",
      "execution_count": 168,
      "metadata": {
        "colab": {
          "base_uri": "https://localhost:8080/"
        },
        "id": "nWGkOWnodj-Z",
        "outputId": "d7567fd8-0ea8-4025-9af2-9760675001d9"
      },
      "outputs": [
        {
          "output_type": "execute_result",
          "data": {
            "text/plain": [
              "((2864, 2), (2864,))"
            ]
          },
          "metadata": {},
          "execution_count": 168
        }
      ],
      "source": [
        "\n",
        "X = df[['basement_sf', 'living_area_sf']].iloc[:-10,:].to_numpy()\n",
        "y = df.price.iloc[:-10].values\n",
        "\n",
        "# pripadne jinak zapsano\n",
        "# X = df[['basement_sf', 'living_area_sf']].head(-10).to_numpy()\n",
        "# y = df.price.head(-10).values\n",
        "\n",
        "X.shape, y.shape"
      ]
    },
    {
      "cell_type": "code",
      "execution_count": 169,
      "metadata": {
        "colab": {
          "base_uri": "https://localhost:8080/"
        },
        "id": "jWcr_uZ0dj-a",
        "outputId": "8ed75e5d-a930-4bce-f0aa-c6592f99635d"
      },
      "outputs": [
        {
          "output_type": "execute_result",
          "data": {
            "text/plain": [
              "((10, 2), (10,))"
            ]
          },
          "metadata": {},
          "execution_count": 169
        }
      ],
      "source": [
        "X_test = df[['basement_sf', 'living_area_sf']].iloc[-10:,:].to_numpy()\n",
        "y_test = df.price.iloc[-10:].values\n",
        "\n",
        "X_test.shape, y_test.shape"
      ]
    },
    {
      "cell_type": "markdown",
      "metadata": {
        "id": "QbuZbdtPdj-a"
      },
      "source": [
        "## Vypocteme presne reseni\n",
        "\n",
        "Presne reseni je mozne ziskat pomoci vztahu:\n",
        "\n",
        "$$\\boldsymbol{\\Theta = (\\tilde{X}^T\\tilde{X})^{-1}\\tilde{X}^Ty}$$\n",
        "\n",
        "kde $\\tilde{X}$ je matice X doplnena o sloupec samych 1"
      ]
    },
    {
      "cell_type": "code",
      "execution_count": 170,
      "metadata": {
        "colab": {
          "base_uri": "https://localhost:8080/"
        },
        "id": "4wWMkJ9Edj-a",
        "outputId": "fed1ba83-cd24-427f-d931-8caeef986e3b"
      },
      "outputs": [
        {
          "output_type": "execute_result",
          "data": {
            "text/plain": [
              "array([[1.000e+00, 1.080e+03, 1.656e+03],\n",
              "       [1.000e+00, 8.820e+02, 8.960e+02],\n",
              "       [1.000e+00, 1.329e+03, 1.329e+03],\n",
              "       ...,\n",
              "       [1.000e+00, 5.460e+02, 1.092e+03],\n",
              "       [1.000e+00, 5.460e+02, 1.092e+03],\n",
              "       [1.000e+00, 5.460e+02, 1.092e+03]])"
            ]
          },
          "metadata": {},
          "execution_count": 170
        }
      ],
      "source": [
        "X_tilde = np.concatenate([np.ones([X.shape[0], 1]), X], axis=1)\n",
        "X_tilde"
      ]
    },
    {
      "cell_type": "code",
      "execution_count": 171,
      "metadata": {
        "colab": {
          "base_uri": "https://localhost:8080/"
        },
        "id": "lLTvHklTdj-a",
        "outputId": "f0e6bcc7-587a-443f-cc5f-4d6a2d665bf2"
      },
      "outputs": [
        {
          "output_type": "execute_result",
          "data": {
            "text/plain": [
              "((2864, 2), (2864, 3))"
            ]
          },
          "metadata": {},
          "execution_count": 171
        }
      ],
      "source": [
        "X.shape, X_tilde.shape"
      ]
    },
    {
      "cell_type": "markdown",
      "metadata": {
        "id": "Qt6V64u7dj-a"
      },
      "source": [
        "Pozor na rozmery pri maticovem nasobeni. Ruzni autori muzou brat napr $\\Theta$ jako sloupcovy vektor a jini jako radkovy. Podobne muzou byt prohozeny rozmery i v pripade $X$ nebo $y$.\n",
        "\n",
        "Stejne tak je treba si dat pozor na nasobeni - z knihovny numpy by se vam mohli hodit metody matmul a dot."
      ]
    },
    {
      "cell_type": "code",
      "execution_count": 172,
      "metadata": {
        "id": "g0fu8Pvkdj-b"
      },
      "outputs": [],
      "source": [
        "def reg_analytical(X_tilde, y):\n",
        "      '''\n",
        "      Vypocet analytickeho reseni lin. regrese\n",
        "\n",
        "      X_tilde - matice X doplnena o sloupec samych 1\n",
        "      y - vektor spravnych vystupu\n",
        "\n",
        "      Vraci vektor thet [theta0, theta1, theta2]\n",
        "      '''\n",
        "\n",
        "      thetas = np.zeros(X_tilde.shape[1])\n",
        "\n",
        "      # TODO: Doplnte kod pro vypocet analytickeho reseni\n",
        "      # *****START OF YOUR CODE (DO NOT DELETE/MODIFY THIS LINE)*****\n",
        "      thetas = np.dot(np.matmul(np.linalg.inv(np.matmul( X_tilde.transpose(), X_tilde)),X_tilde.transpose()),y)\n",
        "\n",
        "      # *****END OF YOUR CODE (DO NOT DELETE/MODIFY THIS LINE)*****\n",
        "\n",
        "      return thetas\n"
      ]
    },
    {
      "cell_type": "code",
      "execution_count": 173,
      "metadata": {
        "colab": {
          "base_uri": "https://localhost:8080/"
        },
        "id": "_EVTHoohdj-b",
        "outputId": "94b3668a-a80b-4b7a-f0d1-6ae38d20beb9"
      },
      "outputs": [
        {
          "output_type": "execute_result",
          "data": {
            "text/plain": [
              "array([-36.26875351,   0.08269191,   0.08711688])"
            ]
          },
          "metadata": {},
          "execution_count": 173
        }
      ],
      "source": [
        "reg_analytical(X_tilde, y)"
      ]
    },
    {
      "cell_type": "markdown",
      "metadata": {
        "id": "IQwVUHyVdj-b"
      },
      "source": [
        "V praxi si reseni muzeme vypocist napr. pomoci knihovny [sklearn.linear_model.LinearRegression](https://scikit-learn.org/stable/modules/generated/sklearn.linear_model.LinearRegression.html#sklearn.linear_model.LinearRegression.score) (vnitrne vyuziva `scipy.linalg`). Muzeme si tak zkontrolovat vypocet z predchoziho kroku."
      ]
    },
    {
      "cell_type": "code",
      "execution_count": 174,
      "metadata": {
        "colab": {
          "base_uri": "https://localhost:8080/"
        },
        "id": "gg-UZPrUdj-b",
        "outputId": "23bee6fc-6cd8-4373-d143-77c743458da1"
      },
      "outputs": [
        {
          "output_type": "execute_result",
          "data": {
            "text/plain": [
              "array([-36.26875351,   0.08269191,   0.08711688])"
            ]
          },
          "metadata": {},
          "execution_count": 174
        }
      ],
      "source": [
        "from sklearn.linear_model import LinearRegression\n",
        "\n",
        "reg_sklearn = LinearRegression().fit(X, y)\n",
        "\n",
        "thetas = np.concatenate([[reg_sklearn.intercept_], reg_sklearn.coef_]) # pro pouziti dale\n",
        "thetas"
      ]
    },
    {
      "cell_type": "markdown",
      "metadata": {
        "id": "eZeMjMRTdj-b"
      },
      "source": [
        "Vyhodou teto knihovny  je, ze na rovnou vypocita [koeficient determinence](https://cs.wikipedia.org/wiki/Koeficient_determinace) $R^2$, ktery urcuje kvalitu regresniho modelu."
      ]
    },
    {
      "cell_type": "code",
      "execution_count": 175,
      "metadata": {
        "colab": {
          "base_uri": "https://localhost:8080/"
        },
        "id": "PCx8LvzBdj-b",
        "outputId": "79f30e22-bcfa-4db9-cbc4-182e2f0b9670"
      },
      "outputs": [
        {
          "output_type": "execute_result",
          "data": {
            "text/plain": [
              "0.6718152786433088"
            ]
          },
          "metadata": {},
          "execution_count": 175
        }
      ],
      "source": [
        "reg_sklearn.score(X, y)"
      ]
    },
    {
      "cell_type": "markdown",
      "metadata": {
        "id": "40vKFMhYdj-b"
      },
      "source": [
        "$R^2=0.672$ tedy model neni nijak moc dobry (perfektni model by mel skore 1)."
      ]
    },
    {
      "cell_type": "markdown",
      "metadata": {
        "id": "_CvkWo8fdj-b"
      },
      "source": [
        "## Test predikce\n",
        "\n",
        "Otestujeme predikci na testovacim datasetu. V tabulce nize vidime skutecnou cenu domu, cenu domu predikovanou pomoci naseho modelu (pouzivame analyticky vypoctene $\\Theta$) a jejich rozdil."
      ]
    },
    {
      "cell_type": "code",
      "execution_count": 176,
      "metadata": {
        "colab": {
          "base_uri": "https://localhost:8080/",
          "height": 363
        },
        "id": "xU8Cm1K2dj-c",
        "outputId": "e10447d5-c9d3-44f6-e736-ce765268590a"
      },
      "outputs": [
        {
          "output_type": "execute_result",
          "data": {
            "text/plain": [
              "   price  predicted_price  difference  difference_percent\n",
              "0   71.0            104.0        33.0                46.0\n",
              "1  150.9            257.1       106.2                70.0\n",
              "2  188.0            257.1        69.1                36.0\n",
              "3  160.0            154.9        -5.1                -4.0\n",
              "4  131.0            171.5        40.5                30.0\n",
              "5  142.5            134.0        -8.5                -6.0\n",
              "6  131.0            113.7       -17.3               -14.0\n",
              "7  132.0            123.6        -8.4                -7.0\n",
              "8  170.0            199.5        29.5                17.0\n",
              "9  188.0            220.3        32.3                17.0"
            ],
            "text/html": [
              "\n",
              "  <div id=\"df-b160fa10-0514-489f-a9fe-b2a7c52f6fc5\" class=\"colab-df-container\">\n",
              "    <div>\n",
              "<style scoped>\n",
              "    .dataframe tbody tr th:only-of-type {\n",
              "        vertical-align: middle;\n",
              "    }\n",
              "\n",
              "    .dataframe tbody tr th {\n",
              "        vertical-align: top;\n",
              "    }\n",
              "\n",
              "    .dataframe thead th {\n",
              "        text-align: right;\n",
              "    }\n",
              "</style>\n",
              "<table border=\"1\" class=\"dataframe\">\n",
              "  <thead>\n",
              "    <tr style=\"text-align: right;\">\n",
              "      <th></th>\n",
              "      <th>price</th>\n",
              "      <th>predicted_price</th>\n",
              "      <th>difference</th>\n",
              "      <th>difference_percent</th>\n",
              "    </tr>\n",
              "  </thead>\n",
              "  <tbody>\n",
              "    <tr>\n",
              "      <th>0</th>\n",
              "      <td>71.0</td>\n",
              "      <td>104.0</td>\n",
              "      <td>33.0</td>\n",
              "      <td>46.0</td>\n",
              "    </tr>\n",
              "    <tr>\n",
              "      <th>1</th>\n",
              "      <td>150.9</td>\n",
              "      <td>257.1</td>\n",
              "      <td>106.2</td>\n",
              "      <td>70.0</td>\n",
              "    </tr>\n",
              "    <tr>\n",
              "      <th>2</th>\n",
              "      <td>188.0</td>\n",
              "      <td>257.1</td>\n",
              "      <td>69.1</td>\n",
              "      <td>36.0</td>\n",
              "    </tr>\n",
              "    <tr>\n",
              "      <th>3</th>\n",
              "      <td>160.0</td>\n",
              "      <td>154.9</td>\n",
              "      <td>-5.1</td>\n",
              "      <td>-4.0</td>\n",
              "    </tr>\n",
              "    <tr>\n",
              "      <th>4</th>\n",
              "      <td>131.0</td>\n",
              "      <td>171.5</td>\n",
              "      <td>40.5</td>\n",
              "      <td>30.0</td>\n",
              "    </tr>\n",
              "    <tr>\n",
              "      <th>5</th>\n",
              "      <td>142.5</td>\n",
              "      <td>134.0</td>\n",
              "      <td>-8.5</td>\n",
              "      <td>-6.0</td>\n",
              "    </tr>\n",
              "    <tr>\n",
              "      <th>6</th>\n",
              "      <td>131.0</td>\n",
              "      <td>113.7</td>\n",
              "      <td>-17.3</td>\n",
              "      <td>-14.0</td>\n",
              "    </tr>\n",
              "    <tr>\n",
              "      <th>7</th>\n",
              "      <td>132.0</td>\n",
              "      <td>123.6</td>\n",
              "      <td>-8.4</td>\n",
              "      <td>-7.0</td>\n",
              "    </tr>\n",
              "    <tr>\n",
              "      <th>8</th>\n",
              "      <td>170.0</td>\n",
              "      <td>199.5</td>\n",
              "      <td>29.5</td>\n",
              "      <td>17.0</td>\n",
              "    </tr>\n",
              "    <tr>\n",
              "      <th>9</th>\n",
              "      <td>188.0</td>\n",
              "      <td>220.3</td>\n",
              "      <td>32.3</td>\n",
              "      <td>17.0</td>\n",
              "    </tr>\n",
              "  </tbody>\n",
              "</table>\n",
              "</div>\n",
              "    <div class=\"colab-df-buttons\">\n",
              "\n",
              "  <div class=\"colab-df-container\">\n",
              "    <button class=\"colab-df-convert\" onclick=\"convertToInteractive('df-b160fa10-0514-489f-a9fe-b2a7c52f6fc5')\"\n",
              "            title=\"Convert this dataframe to an interactive table.\"\n",
              "            style=\"display:none;\">\n",
              "\n",
              "  <svg xmlns=\"http://www.w3.org/2000/svg\" height=\"24px\" viewBox=\"0 -960 960 960\">\n",
              "    <path d=\"M120-120v-720h720v720H120Zm60-500h600v-160H180v160Zm220 220h160v-160H400v160Zm0 220h160v-160H400v160ZM180-400h160v-160H180v160Zm440 0h160v-160H620v160ZM180-180h160v-160H180v160Zm440 0h160v-160H620v160Z\"/>\n",
              "  </svg>\n",
              "    </button>\n",
              "\n",
              "  <style>\n",
              "    .colab-df-container {\n",
              "      display:flex;\n",
              "      gap: 12px;\n",
              "    }\n",
              "\n",
              "    .colab-df-convert {\n",
              "      background-color: #E8F0FE;\n",
              "      border: none;\n",
              "      border-radius: 50%;\n",
              "      cursor: pointer;\n",
              "      display: none;\n",
              "      fill: #1967D2;\n",
              "      height: 32px;\n",
              "      padding: 0 0 0 0;\n",
              "      width: 32px;\n",
              "    }\n",
              "\n",
              "    .colab-df-convert:hover {\n",
              "      background-color: #E2EBFA;\n",
              "      box-shadow: 0px 1px 2px rgba(60, 64, 67, 0.3), 0px 1px 3px 1px rgba(60, 64, 67, 0.15);\n",
              "      fill: #174EA6;\n",
              "    }\n",
              "\n",
              "    .colab-df-buttons div {\n",
              "      margin-bottom: 4px;\n",
              "    }\n",
              "\n",
              "    [theme=dark] .colab-df-convert {\n",
              "      background-color: #3B4455;\n",
              "      fill: #D2E3FC;\n",
              "    }\n",
              "\n",
              "    [theme=dark] .colab-df-convert:hover {\n",
              "      background-color: #434B5C;\n",
              "      box-shadow: 0px 1px 3px 1px rgba(0, 0, 0, 0.15);\n",
              "      filter: drop-shadow(0px 1px 2px rgba(0, 0, 0, 0.3));\n",
              "      fill: #FFFFFF;\n",
              "    }\n",
              "  </style>\n",
              "\n",
              "    <script>\n",
              "      const buttonEl =\n",
              "        document.querySelector('#df-b160fa10-0514-489f-a9fe-b2a7c52f6fc5 button.colab-df-convert');\n",
              "      buttonEl.style.display =\n",
              "        google.colab.kernel.accessAllowed ? 'block' : 'none';\n",
              "\n",
              "      async function convertToInteractive(key) {\n",
              "        const element = document.querySelector('#df-b160fa10-0514-489f-a9fe-b2a7c52f6fc5');\n",
              "        const dataTable =\n",
              "          await google.colab.kernel.invokeFunction('convertToInteractive',\n",
              "                                                    [key], {});\n",
              "        if (!dataTable) return;\n",
              "\n",
              "        const docLinkHtml = 'Like what you see? Visit the ' +\n",
              "          '<a target=\"_blank\" href=https://colab.research.google.com/notebooks/data_table.ipynb>data table notebook</a>'\n",
              "          + ' to learn more about interactive tables.';\n",
              "        element.innerHTML = '';\n",
              "        dataTable['output_type'] = 'display_data';\n",
              "        await google.colab.output.renderOutput(dataTable, element);\n",
              "        const docLink = document.createElement('div');\n",
              "        docLink.innerHTML = docLinkHtml;\n",
              "        element.appendChild(docLink);\n",
              "      }\n",
              "    </script>\n",
              "  </div>\n",
              "\n",
              "\n",
              "<div id=\"df-bc3f721b-e3e4-4707-965f-5c05da6b9f6f\">\n",
              "  <button class=\"colab-df-quickchart\" onclick=\"quickchart('df-bc3f721b-e3e4-4707-965f-5c05da6b9f6f')\"\n",
              "            title=\"Suggest charts\"\n",
              "            style=\"display:none;\">\n",
              "\n",
              "<svg xmlns=\"http://www.w3.org/2000/svg\" height=\"24px\"viewBox=\"0 0 24 24\"\n",
              "     width=\"24px\">\n",
              "    <g>\n",
              "        <path d=\"M19 3H5c-1.1 0-2 .9-2 2v14c0 1.1.9 2 2 2h14c1.1 0 2-.9 2-2V5c0-1.1-.9-2-2-2zM9 17H7v-7h2v7zm4 0h-2V7h2v10zm4 0h-2v-4h2v4z\"/>\n",
              "    </g>\n",
              "</svg>\n",
              "  </button>\n",
              "\n",
              "<style>\n",
              "  .colab-df-quickchart {\n",
              "      --bg-color: #E8F0FE;\n",
              "      --fill-color: #1967D2;\n",
              "      --hover-bg-color: #E2EBFA;\n",
              "      --hover-fill-color: #174EA6;\n",
              "      --disabled-fill-color: #AAA;\n",
              "      --disabled-bg-color: #DDD;\n",
              "  }\n",
              "\n",
              "  [theme=dark] .colab-df-quickchart {\n",
              "      --bg-color: #3B4455;\n",
              "      --fill-color: #D2E3FC;\n",
              "      --hover-bg-color: #434B5C;\n",
              "      --hover-fill-color: #FFFFFF;\n",
              "      --disabled-bg-color: #3B4455;\n",
              "      --disabled-fill-color: #666;\n",
              "  }\n",
              "\n",
              "  .colab-df-quickchart {\n",
              "    background-color: var(--bg-color);\n",
              "    border: none;\n",
              "    border-radius: 50%;\n",
              "    cursor: pointer;\n",
              "    display: none;\n",
              "    fill: var(--fill-color);\n",
              "    height: 32px;\n",
              "    padding: 0;\n",
              "    width: 32px;\n",
              "  }\n",
              "\n",
              "  .colab-df-quickchart:hover {\n",
              "    background-color: var(--hover-bg-color);\n",
              "    box-shadow: 0 1px 2px rgba(60, 64, 67, 0.3), 0 1px 3px 1px rgba(60, 64, 67, 0.15);\n",
              "    fill: var(--button-hover-fill-color);\n",
              "  }\n",
              "\n",
              "  .colab-df-quickchart-complete:disabled,\n",
              "  .colab-df-quickchart-complete:disabled:hover {\n",
              "    background-color: var(--disabled-bg-color);\n",
              "    fill: var(--disabled-fill-color);\n",
              "    box-shadow: none;\n",
              "  }\n",
              "\n",
              "  .colab-df-spinner {\n",
              "    border: 2px solid var(--fill-color);\n",
              "    border-color: transparent;\n",
              "    border-bottom-color: var(--fill-color);\n",
              "    animation:\n",
              "      spin 1s steps(1) infinite;\n",
              "  }\n",
              "\n",
              "  @keyframes spin {\n",
              "    0% {\n",
              "      border-color: transparent;\n",
              "      border-bottom-color: var(--fill-color);\n",
              "      border-left-color: var(--fill-color);\n",
              "    }\n",
              "    20% {\n",
              "      border-color: transparent;\n",
              "      border-left-color: var(--fill-color);\n",
              "      border-top-color: var(--fill-color);\n",
              "    }\n",
              "    30% {\n",
              "      border-color: transparent;\n",
              "      border-left-color: var(--fill-color);\n",
              "      border-top-color: var(--fill-color);\n",
              "      border-right-color: var(--fill-color);\n",
              "    }\n",
              "    40% {\n",
              "      border-color: transparent;\n",
              "      border-right-color: var(--fill-color);\n",
              "      border-top-color: var(--fill-color);\n",
              "    }\n",
              "    60% {\n",
              "      border-color: transparent;\n",
              "      border-right-color: var(--fill-color);\n",
              "    }\n",
              "    80% {\n",
              "      border-color: transparent;\n",
              "      border-right-color: var(--fill-color);\n",
              "      border-bottom-color: var(--fill-color);\n",
              "    }\n",
              "    90% {\n",
              "      border-color: transparent;\n",
              "      border-bottom-color: var(--fill-color);\n",
              "    }\n",
              "  }\n",
              "</style>\n",
              "\n",
              "  <script>\n",
              "    async function quickchart(key) {\n",
              "      const quickchartButtonEl =\n",
              "        document.querySelector('#' + key + ' button');\n",
              "      quickchartButtonEl.disabled = true;  // To prevent multiple clicks.\n",
              "      quickchartButtonEl.classList.add('colab-df-spinner');\n",
              "      try {\n",
              "        const charts = await google.colab.kernel.invokeFunction(\n",
              "            'suggestCharts', [key], {});\n",
              "      } catch (error) {\n",
              "        console.error('Error during call to suggestCharts:', error);\n",
              "      }\n",
              "      quickchartButtonEl.classList.remove('colab-df-spinner');\n",
              "      quickchartButtonEl.classList.add('colab-df-quickchart-complete');\n",
              "    }\n",
              "    (() => {\n",
              "      let quickchartButtonEl =\n",
              "        document.querySelector('#df-bc3f721b-e3e4-4707-965f-5c05da6b9f6f button');\n",
              "      quickchartButtonEl.style.display =\n",
              "        google.colab.kernel.accessAllowed ? 'block' : 'none';\n",
              "    })();\n",
              "  </script>\n",
              "</div>\n",
              "    </div>\n",
              "  </div>\n"
            ]
          },
          "metadata": {},
          "execution_count": 176
        }
      ],
      "source": [
        "pred_sklearn = reg_sklearn.predict(X_test)\n",
        "pred_sklearn = np.floor(pred_sklearn*10)/10 # zaokrouhleni na jedno desetine misto\n",
        "\n",
        "df_sklearn = pd.DataFrame({\n",
        "    'price': y_test,\n",
        "    'predicted_price': pred_sklearn,\n",
        "    'difference': (pred_sklearn - y_test),\n",
        "    'difference_percent': np.floor(((pred_sklearn - y_test) / y_test) * 100)\n",
        "})\n",
        "\n",
        "df_sklearn.head(10)"
      ]
    },
    {
      "cell_type": "markdown",
      "metadata": {
        "id": "dWCLAmJRdj-c"
      },
      "source": [
        "## Chybova funkce\n",
        "\n",
        "Model je dan funkci $\\hat{y}$ a chyba modelu je $J(\\Theta)$:\n",
        "\n",
        "$$\\hat{y} = \\Theta_0 + \\Theta_1 x_1^{(i)} + \\Theta_2 x_2^{(i)}$$\n",
        "\n",
        "$$J(\\Theta) = \\frac{1}{2} \\sum_{i=1}^{n}(y_i - \\hat{y}_i)^2 = \\frac{1}{2}  \\sum_{i=1}^{n}(y_i - \\Theta_0 - \\Theta_1 x_1^{(i)} - \\Theta_2 x_2^{(i)})^2$$\n",
        "\n",
        "kde:\n",
        "- $x_1^{(i)}$ je feature $x_1$ (napr basement_sf) pro $i$-ty vzorek\n",
        "- $x_2^{(i)}$ je feature $x_2$ (napr living_area_sf) pro $i$-ty vzorek"
      ]
    },
    {
      "cell_type": "code",
      "execution_count": 177,
      "metadata": {
        "id": "Toh_UbrIdj-c"
      },
      "outputs": [],
      "source": [
        "def loss_sum(theta0, theta1, theta2, X, y):\n",
        "    '''\n",
        "    Vypocet hodnoty chybove funkce s pomoci sumy\n",
        "\n",
        "    Vraci hodnotu chyby.\n",
        "    '''\n",
        "\n",
        "    loss = 0\n",
        "    # TODO: Doplnte kod pro vypocet hodnoty chybove funkce\n",
        "    # *****START OF YOUR CODE (DO NOT DELETE/MODIFY THIS LINE)*****\n",
        "    for i in range(0,len(y)):\n",
        "      loss += np.power((y[i] - theta0 - theta1* X[i,0] - theta2*X[i,1]),2)\n",
        "    loss /= 2\n",
        "\n",
        "    # *****END OF YOUR CODE (DO NOT DELETE/MODIFY THIS LINE)*****\n",
        "\n",
        "    return loss\n",
        "\n"
      ]
    },
    {
      "cell_type": "markdown",
      "metadata": {
        "id": "m10CMtcwdj-c"
      },
      "source": [
        "Chyba analytickeho reseni"
      ]
    },
    {
      "cell_type": "code",
      "execution_count": 178,
      "metadata": {
        "colab": {
          "base_uri": "https://localhost:8080/"
        },
        "id": "SZ1pkPu6dj-c",
        "outputId": "7b727a3e-b8e8-4ce1-845d-bc13dec9b16f"
      },
      "outputs": [
        {
          "output_type": "execute_result",
          "data": {
            "text/plain": [
              "2724742.586464901"
            ]
          },
          "metadata": {},
          "execution_count": 178
        }
      ],
      "source": [
        "loss_sum(thetas[0], thetas[1], thetas[2], X, y)"
      ]
    },
    {
      "cell_type": "markdown",
      "metadata": {
        "id": "QY-cQbXIdj-c"
      },
      "source": [
        "Root Mean Squred Error (RMSE) nam napovi, jak moc velka je prumerna chyba v puvodnich jednotkach (chyba je totiz v dolarech na druhou)."
      ]
    },
    {
      "cell_type": "code",
      "execution_count": 179,
      "metadata": {
        "colab": {
          "base_uri": "https://localhost:8080/"
        },
        "id": "4GCyl-Skdj-c",
        "outputId": "56753875-9f69-46c3-d7fe-b017f1cd703e"
      },
      "outputs": [
        {
          "output_type": "execute_result",
          "data": {
            "text/plain": [
              "0.8150884216263594"
            ]
          },
          "metadata": {},
          "execution_count": 179
        }
      ],
      "source": [
        "np.sqrt(2*loss_sum(thetas[0], thetas[1], thetas[2], X, y)) / len(y) # 2* ptz chybova funkce obsahuje 1/2"
      ]
    },
    {
      "cell_type": "markdown",
      "metadata": {
        "id": "cq9y4A3tdj-d"
      },
      "source": [
        "### Cenova funkce - vektorizovana\n",
        "\n",
        "Model je dan funkci $\\hat{y}$ a chyba modelu je $J(\\Theta)$:\n",
        "\n",
        "$$\\hat{y} = \\Theta_0 x_0^{(i)} + \\Theta_1 x_1^{(i)} + \\Theta_2 x_2^{(i)} = \\tilde{X} \\Theta$$\n",
        "\n",
        "$$J(\\Theta) = \\frac{1}{2} \\sum_{i=1}^{n}(y_i - \\hat{y}_i)^2$$\n",
        "\n",
        "kde\n",
        "- $x_0^{(i)}$ , tj koeficient $x_0$ pro $i$-ty vzorek, je vzdy 1"
      ]
    },
    {
      "cell_type": "code",
      "execution_count": 180,
      "metadata": {
        "id": "kSWBYTSCdj-d"
      },
      "outputs": [],
      "source": [
        "def loss_vec(thetas, X_tilde, y):\n",
        "    '''\n",
        "    Vektorizovany vypocet hodnoty chybove funkce\n",
        "\n",
        "    thetas - vektor thet [theta0,theta1,theta2,...]\n",
        "    X_tilde - matice X se sloupcem samych 1\n",
        "    y - vystupni hodnota\n",
        "\n",
        "    Vraci hodnotu chyby.\n",
        "    '''\n",
        "    ycaret = np.matmul(X_tilde, thetas)\n",
        "    loss = 0\n",
        "\n",
        "    # TODO: Doplnte kod pro vypocet hodnoty chybove funkce\n",
        "    # *****START OF YOUR CODE (DO NOT DELETE/MODIFY THIS LINE)*****\n",
        "\n",
        "    for i in range(0,len(y)):\n",
        "      loss+=np.power(y[i]-ycaret[i], 2)\n",
        "    loss/=2\n",
        "    # *****END OF YOUR CODE (DO NOT DELETE/MODIFY THIS LINE)*****\n",
        "\n",
        "    return loss"
      ]
    },
    {
      "cell_type": "markdown",
      "metadata": {
        "id": "z_UWZTn6dj-d"
      },
      "source": [
        "Vypocteme chybu analytickeho reseni"
      ]
    },
    {
      "cell_type": "code",
      "execution_count": 181,
      "metadata": {
        "colab": {
          "base_uri": "https://localhost:8080/"
        },
        "id": "NE4bAGv2dj-e",
        "outputId": "6f62277e-1258-4ec0-f1ef-8065b4552735"
      },
      "outputs": [
        {
          "output_type": "execute_result",
          "data": {
            "text/plain": [
              "2724742.586464902"
            ]
          },
          "metadata": {},
          "execution_count": 181
        }
      ],
      "source": [
        "loss_vec(thetas, X_tilde, y)"
      ]
    },
    {
      "cell_type": "markdown",
      "metadata": {
        "id": "dnTIBSz7dj-e"
      },
      "source": [
        "Rozdil chyb"
      ]
    },
    {
      "cell_type": "code",
      "execution_count": 182,
      "metadata": {
        "colab": {
          "base_uri": "https://localhost:8080/"
        },
        "id": "2cui3pyxdj-e",
        "outputId": "27f71060-9521-4e70-98bd-d40ed8aa2446"
      },
      "outputs": [
        {
          "output_type": "execute_result",
          "data": {
            "text/plain": [
              "9.313225746154785e-10"
            ]
          },
          "metadata": {},
          "execution_count": 182
        }
      ],
      "source": [
        "np.abs(loss_vec(thetas, X_tilde, y) - loss_sum(thetas[0], thetas[1], thetas[2], X, y))"
      ]
    },
    {
      "cell_type": "markdown",
      "metadata": {
        "id": "N5XACSxOdj-e"
      },
      "source": [
        "### Srovnani rychlosti vypoctu\n",
        "\n",
        "Spustime 100 opakovani vzpoctu chyby. Vektorizovany vypocet je i na malych datech nasobne rychlejsi."
      ]
    },
    {
      "cell_type": "code",
      "execution_count": 183,
      "metadata": {
        "colab": {
          "base_uri": "https://localhost:8080/"
        },
        "id": "dIhLeWw_dj-e",
        "outputId": "e1bfbd44-115f-4c58-e9f9-1474358f8f13"
      },
      "outputs": [
        {
          "output_type": "stream",
          "name": "stdout",
          "text": [
            "CPU times: user 1.33 s, sys: 3.31 ms, total: 1.33 s\n",
            "Wall time: 1.43 s\n"
          ]
        }
      ],
      "source": [
        "%%time\n",
        "for i in range(100):\n",
        "    loss_sum(thetas[0], thetas[1], thetas[2], X, y)"
      ]
    },
    {
      "cell_type": "code",
      "execution_count": 184,
      "metadata": {
        "colab": {
          "base_uri": "https://localhost:8080/"
        },
        "id": "pxad2IArdj-e",
        "outputId": "9a992080-4241-4667-b3a4-46c57fd20a87"
      },
      "outputs": [
        {
          "output_type": "stream",
          "name": "stdout",
          "text": [
            "CPU times: user 1.16 s, sys: 0 ns, total: 1.16 s\n",
            "Wall time: 1.2 s\n"
          ]
        }
      ],
      "source": [
        "%%time\n",
        "for i in range(100):\n",
        "    loss_vec(thetas, X_tilde, y)"
      ]
    },
    {
      "cell_type": "markdown",
      "metadata": {
        "id": "6-80NKCIdj-f"
      },
      "source": [
        "## Gradient Descent\n",
        "\n",
        "Pro nalezeni $\\Theta$ muzeme pouzit i metodu nejvetsiho spadu. Jedna se o iteracni algoritmus, kdy se po jednolivych krocich \"vylepsuje\" honota parametru modelu $\\Theta$. Kazdy krok je dan jako:\n",
        "\n",
        "$$\\Theta = \\Theta - \\alpha \\frac{\\partial}{\\partial \\Theta} J(\\Theta)$$\n",
        "\n",
        "Nas model je dan funkci $\\hat{y}$ a chyba modelu je $J(\\Theta)$:\n",
        "\n",
        "$$\\hat{y}_i = \\Theta_0 x_0^{(i)} + \\Theta_1 x_1^{(i)} + \\Theta_2 x_2^{(i)} = \\tilde{X} \\Theta$$\n",
        "\n",
        "$$J(\\Theta) = \\frac{1}{2} \\sum_{i=1}^{n}(y_i - \\hat{y}_i)^2 = \\frac{1}{2} \\sum_{i=1}^{n}(y_i - \\boldsymbol{\\tilde{x}}^{(i)} \\Theta)^2$$\n",
        "\n",
        "Pro metodu nejvetsiho spadu potrebujeme derivaci chybove funkce (navic idealne ve forme maticoveho nasobeni kvuli vektorizaci vypoctu):\n",
        "\n",
        "$$\\frac{\\partial}{\\partial \\Theta} J(\\Theta) = -\\sum_{i=1}^{n}(y_i - \\Theta^T \\boldsymbol{\\tilde{x}}^{(i)})\\boldsymbol{\\tilde{x}}^{(i)} = -\\tilde{X}^T (\\boldsymbol{y} - \\tilde{X}\\Theta^T) = \\tilde{X}^T (\\tilde{X}\\Theta^T - \\boldsymbol{y})$$\n",
        "\n",
        "Dosadime a dostaneme:\n",
        "\n",
        "\\begin{align*}\n",
        "\\boldsymbol{\\Theta} &= \\boldsymbol{\\Theta} - \\alpha \\frac{\\partial}{\\partial \\boldsymbol{\\Theta}} J(\\boldsymbol{\\Theta}) \\\\\n",
        "\\boldsymbol{\\Theta} &= \\boldsymbol{\\Theta} - \\alpha \\boldsymbol{\\tilde{X}}^T (\\boldsymbol{\\tilde{X}} \\boldsymbol{\\Theta}^T - \\boldsymbol{y})  \\\\\n",
        "\\end{align*}"
      ]
    },
    {
      "cell_type": "code",
      "execution_count": 185,
      "metadata": {
        "colab": {
          "base_uri": "https://localhost:8080/"
        },
        "id": "IOiQT_vkdj-f",
        "outputId": "8a9643e4-9741-4416-cb68-29c29f410461"
      },
      "outputs": [
        {
          "output_type": "stream",
          "name": "stdout",
          "text": [
            "Velikost chyby po 0 epochach: 54305960.058656\n",
            "Velikost chyby po 5 epochach: 2907538.761641\n",
            "Velikost chyby po 10 epochach: 2896485.072390\n",
            "Velikost chyby po 15 epochach: 2888532.944709\n",
            "Velikost chyby po 20 epochach: 2882812.107038\n",
            "Velikost chyby po 25 epochach: 2878696.478549\n",
            "Velikost chyby po 30 epochach: 2875735.651322\n",
            "Velikost chyby po 35 epochach: 2873605.598032\n",
            "Velikost chyby po 40 epochach: 2872073.210643\n",
            "Velikost chyby po 45 epochach: 2870970.789231\n",
            "Velikost chyby po 50 epochach: 2870177.689034\n",
            "Velikost chyby po 55 epochach: 2869607.117173\n",
            "Velikost chyby po 60 epochach: 2869196.634106\n",
            "Velikost chyby po 65 epochach: 2868901.320292\n",
            "Velikost chyby po 70 epochach: 2868688.860228\n",
            "Velikost chyby po 75 epochach: 2868536.005861\n",
            "Velikost chyby po 80 epochach: 2868426.032344\n",
            "Velikost chyby po 85 epochach: 2868346.907680\n",
            "Velikost chyby po 90 epochach: 2868289.975944\n",
            "Velikost chyby po 95 epochach: 2868249.009992\n",
            "Velikost chyby po 100 epochach: 2868219.529962\n"
          ]
        }
      ],
      "source": [
        "def reg_gradient_descent(X_tilde, y, epochs=100, alpha=1e-3, print_every=10):\n",
        "    '''\n",
        "    Vektorizovany vypocet gradientu.\n",
        "\n",
        "    X_tilde - MAtice X rozsirena o sloupec jednicek,\n",
        "    y - Vektor obsahujici spravne vystupy\n",
        "    epochs - pocet iteraci vypoctu\n",
        "    alpha - learningrate,\n",
        "    print_every=10\n",
        "    '''\n",
        "\n",
        "    # inicializujeme thety na same 0\n",
        "    thetas = np.zeros(X_tilde.shape[1])\n",
        "\n",
        "    print('Velikost chyby po %d epochach: %f' % (0, loss_vec(thetas, X_tilde, y)))\n",
        "\n",
        "    for i in range(epochs):\n",
        "\n",
        "        # TODO: Doplnte kod pro vypocet jedne iterace gradientu\n",
        "        # *****START OF YOUR CODE (DO NOT DELETE/MODIFY THIS LINE)*****\n",
        "\n",
        "        thetas = thetas - alpha * np.matmul(X_tilde.transpose(),np.matmul(X_tilde,thetas.transpose())-y)\n",
        "\n",
        "\n",
        "        # *****END OF YOUR CODE (DO NOT DELETE/MODIFY THIS LINE)*****\n",
        "\n",
        "        if (i+1) % print_every == 0:\n",
        "            # print(thetas)\n",
        "            print('Velikost chyby po %d epochach: %f' % (i+1, loss_vec(thetas, X_tilde, y)))\n",
        "\n",
        "    return thetas\n",
        "\n",
        "thetas_gd = reg_gradient_descent(X_tilde, y, epochs=100, alpha=1e-10, print_every=5)\n"
      ]
    },
    {
      "cell_type": "code",
      "execution_count": 186,
      "metadata": {
        "colab": {
          "base_uri": "https://localhost:8080/"
        },
        "id": "seTBsqyqdj-f",
        "outputId": "e520dec1-391e-4bb4-b573-310dc56dc129"
      },
      "outputs": [
        {
          "output_type": "execute_result",
          "data": {
            "text/plain": [
              "array([-2.84919518e-05,  7.23983051e-02,  7.17688079e-02])"
            ]
          },
          "metadata": {},
          "execution_count": 186
        }
      ],
      "source": [
        "# Vypiseme si naucene thety\n",
        "thetas_gd"
      ]
    },
    {
      "cell_type": "code",
      "execution_count": 187,
      "metadata": {
        "colab": {
          "base_uri": "https://localhost:8080/"
        },
        "id": "x1s8qKp9dj-f",
        "outputId": "2c7371c4-6c58-4814-c3d2-c5dd4b0f0851"
      },
      "outputs": [
        {
          "output_type": "execute_result",
          "data": {
            "text/plain": [
              "(2724742.586464902, 2868219.5299616884)"
            ]
          },
          "metadata": {},
          "execution_count": 187
        }
      ],
      "source": [
        "loss_vec(thetas, X_tilde, y), loss_vec(thetas_gd, X_tilde, y)"
      ]
    },
    {
      "cell_type": "code",
      "execution_count": 188,
      "metadata": {
        "colab": {
          "base_uri": "https://localhost:8080/"
        },
        "id": "FXX3em54dj-f",
        "outputId": "8fa71185-0370-471d-ccca-3b21ee3a2d13"
      },
      "outputs": [
        {
          "output_type": "execute_result",
          "data": {
            "text/plain": [
              "143476.94349678652"
            ]
          },
          "metadata": {},
          "execution_count": 188
        }
      ],
      "source": [
        "# pro informaci - rozdil mezi nejlepsi chybou a chybou z GD\n",
        "np.abs(loss_vec(thetas, X_tilde, y) - loss_vec(thetas_gd, X_tilde, y))"
      ]
    },
    {
      "cell_type": "markdown",
      "metadata": {
        "id": "YhhHvEo4dj-f"
      },
      "source": [
        "### Srovnani na testovacich datech"
      ]
    },
    {
      "cell_type": "code",
      "execution_count": 189,
      "metadata": {
        "id": "dGJJE-J8dj-g"
      },
      "outputs": [],
      "source": [
        "X_test_tilde = np.concatenate([np.ones([X_test.shape[0], 1]), X_test], axis=1) # do testovaci matice pridam sloupec 1"
      ]
    },
    {
      "cell_type": "code",
      "execution_count": 190,
      "metadata": {
        "colab": {
          "base_uri": "https://localhost:8080/",
          "height": 363
        },
        "id": "ba5R_Whcdj-g",
        "outputId": "60cc43d4-bfb2-4afd-c1bc-d5824c09dd1e"
      },
      "outputs": [
        {
          "output_type": "execute_result",
          "data": {
            "text/plain": [
              "   price  predicted_price_sklearn  difference_sklearn  predicted_price_gd  \\\n",
              "0   71.0                    104.0                33.0               117.9   \n",
              "1  150.9                    257.1               106.2               249.1   \n",
              "2  188.0                    257.1                69.1               249.1   \n",
              "3  160.0                    154.9                -5.1               162.3   \n",
              "4  131.0                    171.5                40.5               176.4   \n",
              "5  142.5                    134.0                -8.5               144.5   \n",
              "6  131.0                    113.7               -17.3               127.2   \n",
              "7  132.0                    123.6                -8.4               135.6   \n",
              "8  170.0                    199.5                29.5               200.2   \n",
              "9  188.0                    220.3                32.3               215.6   \n",
              "\n",
              "   difference_gd  \n",
              "0           46.9  \n",
              "1           98.2  \n",
              "2           61.1  \n",
              "3            2.3  \n",
              "4           45.4  \n",
              "5            2.0  \n",
              "6           -3.8  \n",
              "7            3.6  \n",
              "8           30.2  \n",
              "9           27.6  "
            ],
            "text/html": [
              "\n",
              "  <div id=\"df-7d28f384-6fb6-4398-bcf0-3eebcdeb86bb\" class=\"colab-df-container\">\n",
              "    <div>\n",
              "<style scoped>\n",
              "    .dataframe tbody tr th:only-of-type {\n",
              "        vertical-align: middle;\n",
              "    }\n",
              "\n",
              "    .dataframe tbody tr th {\n",
              "        vertical-align: top;\n",
              "    }\n",
              "\n",
              "    .dataframe thead th {\n",
              "        text-align: right;\n",
              "    }\n",
              "</style>\n",
              "<table border=\"1\" class=\"dataframe\">\n",
              "  <thead>\n",
              "    <tr style=\"text-align: right;\">\n",
              "      <th></th>\n",
              "      <th>price</th>\n",
              "      <th>predicted_price_sklearn</th>\n",
              "      <th>difference_sklearn</th>\n",
              "      <th>predicted_price_gd</th>\n",
              "      <th>difference_gd</th>\n",
              "    </tr>\n",
              "  </thead>\n",
              "  <tbody>\n",
              "    <tr>\n",
              "      <th>0</th>\n",
              "      <td>71.0</td>\n",
              "      <td>104.0</td>\n",
              "      <td>33.0</td>\n",
              "      <td>117.9</td>\n",
              "      <td>46.9</td>\n",
              "    </tr>\n",
              "    <tr>\n",
              "      <th>1</th>\n",
              "      <td>150.9</td>\n",
              "      <td>257.1</td>\n",
              "      <td>106.2</td>\n",
              "      <td>249.1</td>\n",
              "      <td>98.2</td>\n",
              "    </tr>\n",
              "    <tr>\n",
              "      <th>2</th>\n",
              "      <td>188.0</td>\n",
              "      <td>257.1</td>\n",
              "      <td>69.1</td>\n",
              "      <td>249.1</td>\n",
              "      <td>61.1</td>\n",
              "    </tr>\n",
              "    <tr>\n",
              "      <th>3</th>\n",
              "      <td>160.0</td>\n",
              "      <td>154.9</td>\n",
              "      <td>-5.1</td>\n",
              "      <td>162.3</td>\n",
              "      <td>2.3</td>\n",
              "    </tr>\n",
              "    <tr>\n",
              "      <th>4</th>\n",
              "      <td>131.0</td>\n",
              "      <td>171.5</td>\n",
              "      <td>40.5</td>\n",
              "      <td>176.4</td>\n",
              "      <td>45.4</td>\n",
              "    </tr>\n",
              "    <tr>\n",
              "      <th>5</th>\n",
              "      <td>142.5</td>\n",
              "      <td>134.0</td>\n",
              "      <td>-8.5</td>\n",
              "      <td>144.5</td>\n",
              "      <td>2.0</td>\n",
              "    </tr>\n",
              "    <tr>\n",
              "      <th>6</th>\n",
              "      <td>131.0</td>\n",
              "      <td>113.7</td>\n",
              "      <td>-17.3</td>\n",
              "      <td>127.2</td>\n",
              "      <td>-3.8</td>\n",
              "    </tr>\n",
              "    <tr>\n",
              "      <th>7</th>\n",
              "      <td>132.0</td>\n",
              "      <td>123.6</td>\n",
              "      <td>-8.4</td>\n",
              "      <td>135.6</td>\n",
              "      <td>3.6</td>\n",
              "    </tr>\n",
              "    <tr>\n",
              "      <th>8</th>\n",
              "      <td>170.0</td>\n",
              "      <td>199.5</td>\n",
              "      <td>29.5</td>\n",
              "      <td>200.2</td>\n",
              "      <td>30.2</td>\n",
              "    </tr>\n",
              "    <tr>\n",
              "      <th>9</th>\n",
              "      <td>188.0</td>\n",
              "      <td>220.3</td>\n",
              "      <td>32.3</td>\n",
              "      <td>215.6</td>\n",
              "      <td>27.6</td>\n",
              "    </tr>\n",
              "  </tbody>\n",
              "</table>\n",
              "</div>\n",
              "    <div class=\"colab-df-buttons\">\n",
              "\n",
              "  <div class=\"colab-df-container\">\n",
              "    <button class=\"colab-df-convert\" onclick=\"convertToInteractive('df-7d28f384-6fb6-4398-bcf0-3eebcdeb86bb')\"\n",
              "            title=\"Convert this dataframe to an interactive table.\"\n",
              "            style=\"display:none;\">\n",
              "\n",
              "  <svg xmlns=\"http://www.w3.org/2000/svg\" height=\"24px\" viewBox=\"0 -960 960 960\">\n",
              "    <path d=\"M120-120v-720h720v720H120Zm60-500h600v-160H180v160Zm220 220h160v-160H400v160Zm0 220h160v-160H400v160ZM180-400h160v-160H180v160Zm440 0h160v-160H620v160ZM180-180h160v-160H180v160Zm440 0h160v-160H620v160Z\"/>\n",
              "  </svg>\n",
              "    </button>\n",
              "\n",
              "  <style>\n",
              "    .colab-df-container {\n",
              "      display:flex;\n",
              "      gap: 12px;\n",
              "    }\n",
              "\n",
              "    .colab-df-convert {\n",
              "      background-color: #E8F0FE;\n",
              "      border: none;\n",
              "      border-radius: 50%;\n",
              "      cursor: pointer;\n",
              "      display: none;\n",
              "      fill: #1967D2;\n",
              "      height: 32px;\n",
              "      padding: 0 0 0 0;\n",
              "      width: 32px;\n",
              "    }\n",
              "\n",
              "    .colab-df-convert:hover {\n",
              "      background-color: #E2EBFA;\n",
              "      box-shadow: 0px 1px 2px rgba(60, 64, 67, 0.3), 0px 1px 3px 1px rgba(60, 64, 67, 0.15);\n",
              "      fill: #174EA6;\n",
              "    }\n",
              "\n",
              "    .colab-df-buttons div {\n",
              "      margin-bottom: 4px;\n",
              "    }\n",
              "\n",
              "    [theme=dark] .colab-df-convert {\n",
              "      background-color: #3B4455;\n",
              "      fill: #D2E3FC;\n",
              "    }\n",
              "\n",
              "    [theme=dark] .colab-df-convert:hover {\n",
              "      background-color: #434B5C;\n",
              "      box-shadow: 0px 1px 3px 1px rgba(0, 0, 0, 0.15);\n",
              "      filter: drop-shadow(0px 1px 2px rgba(0, 0, 0, 0.3));\n",
              "      fill: #FFFFFF;\n",
              "    }\n",
              "  </style>\n",
              "\n",
              "    <script>\n",
              "      const buttonEl =\n",
              "        document.querySelector('#df-7d28f384-6fb6-4398-bcf0-3eebcdeb86bb button.colab-df-convert');\n",
              "      buttonEl.style.display =\n",
              "        google.colab.kernel.accessAllowed ? 'block' : 'none';\n",
              "\n",
              "      async function convertToInteractive(key) {\n",
              "        const element = document.querySelector('#df-7d28f384-6fb6-4398-bcf0-3eebcdeb86bb');\n",
              "        const dataTable =\n",
              "          await google.colab.kernel.invokeFunction('convertToInteractive',\n",
              "                                                    [key], {});\n",
              "        if (!dataTable) return;\n",
              "\n",
              "        const docLinkHtml = 'Like what you see? Visit the ' +\n",
              "          '<a target=\"_blank\" href=https://colab.research.google.com/notebooks/data_table.ipynb>data table notebook</a>'\n",
              "          + ' to learn more about interactive tables.';\n",
              "        element.innerHTML = '';\n",
              "        dataTable['output_type'] = 'display_data';\n",
              "        await google.colab.output.renderOutput(dataTable, element);\n",
              "        const docLink = document.createElement('div');\n",
              "        docLink.innerHTML = docLinkHtml;\n",
              "        element.appendChild(docLink);\n",
              "      }\n",
              "    </script>\n",
              "  </div>\n",
              "\n",
              "\n",
              "<div id=\"df-b2f454cd-5487-49e5-b1e3-e422c1348945\">\n",
              "  <button class=\"colab-df-quickchart\" onclick=\"quickchart('df-b2f454cd-5487-49e5-b1e3-e422c1348945')\"\n",
              "            title=\"Suggest charts\"\n",
              "            style=\"display:none;\">\n",
              "\n",
              "<svg xmlns=\"http://www.w3.org/2000/svg\" height=\"24px\"viewBox=\"0 0 24 24\"\n",
              "     width=\"24px\">\n",
              "    <g>\n",
              "        <path d=\"M19 3H5c-1.1 0-2 .9-2 2v14c0 1.1.9 2 2 2h14c1.1 0 2-.9 2-2V5c0-1.1-.9-2-2-2zM9 17H7v-7h2v7zm4 0h-2V7h2v10zm4 0h-2v-4h2v4z\"/>\n",
              "    </g>\n",
              "</svg>\n",
              "  </button>\n",
              "\n",
              "<style>\n",
              "  .colab-df-quickchart {\n",
              "      --bg-color: #E8F0FE;\n",
              "      --fill-color: #1967D2;\n",
              "      --hover-bg-color: #E2EBFA;\n",
              "      --hover-fill-color: #174EA6;\n",
              "      --disabled-fill-color: #AAA;\n",
              "      --disabled-bg-color: #DDD;\n",
              "  }\n",
              "\n",
              "  [theme=dark] .colab-df-quickchart {\n",
              "      --bg-color: #3B4455;\n",
              "      --fill-color: #D2E3FC;\n",
              "      --hover-bg-color: #434B5C;\n",
              "      --hover-fill-color: #FFFFFF;\n",
              "      --disabled-bg-color: #3B4455;\n",
              "      --disabled-fill-color: #666;\n",
              "  }\n",
              "\n",
              "  .colab-df-quickchart {\n",
              "    background-color: var(--bg-color);\n",
              "    border: none;\n",
              "    border-radius: 50%;\n",
              "    cursor: pointer;\n",
              "    display: none;\n",
              "    fill: var(--fill-color);\n",
              "    height: 32px;\n",
              "    padding: 0;\n",
              "    width: 32px;\n",
              "  }\n",
              "\n",
              "  .colab-df-quickchart:hover {\n",
              "    background-color: var(--hover-bg-color);\n",
              "    box-shadow: 0 1px 2px rgba(60, 64, 67, 0.3), 0 1px 3px 1px rgba(60, 64, 67, 0.15);\n",
              "    fill: var(--button-hover-fill-color);\n",
              "  }\n",
              "\n",
              "  .colab-df-quickchart-complete:disabled,\n",
              "  .colab-df-quickchart-complete:disabled:hover {\n",
              "    background-color: var(--disabled-bg-color);\n",
              "    fill: var(--disabled-fill-color);\n",
              "    box-shadow: none;\n",
              "  }\n",
              "\n",
              "  .colab-df-spinner {\n",
              "    border: 2px solid var(--fill-color);\n",
              "    border-color: transparent;\n",
              "    border-bottom-color: var(--fill-color);\n",
              "    animation:\n",
              "      spin 1s steps(1) infinite;\n",
              "  }\n",
              "\n",
              "  @keyframes spin {\n",
              "    0% {\n",
              "      border-color: transparent;\n",
              "      border-bottom-color: var(--fill-color);\n",
              "      border-left-color: var(--fill-color);\n",
              "    }\n",
              "    20% {\n",
              "      border-color: transparent;\n",
              "      border-left-color: var(--fill-color);\n",
              "      border-top-color: var(--fill-color);\n",
              "    }\n",
              "    30% {\n",
              "      border-color: transparent;\n",
              "      border-left-color: var(--fill-color);\n",
              "      border-top-color: var(--fill-color);\n",
              "      border-right-color: var(--fill-color);\n",
              "    }\n",
              "    40% {\n",
              "      border-color: transparent;\n",
              "      border-right-color: var(--fill-color);\n",
              "      border-top-color: var(--fill-color);\n",
              "    }\n",
              "    60% {\n",
              "      border-color: transparent;\n",
              "      border-right-color: var(--fill-color);\n",
              "    }\n",
              "    80% {\n",
              "      border-color: transparent;\n",
              "      border-right-color: var(--fill-color);\n",
              "      border-bottom-color: var(--fill-color);\n",
              "    }\n",
              "    90% {\n",
              "      border-color: transparent;\n",
              "      border-bottom-color: var(--fill-color);\n",
              "    }\n",
              "  }\n",
              "</style>\n",
              "\n",
              "  <script>\n",
              "    async function quickchart(key) {\n",
              "      const quickchartButtonEl =\n",
              "        document.querySelector('#' + key + ' button');\n",
              "      quickchartButtonEl.disabled = true;  // To prevent multiple clicks.\n",
              "      quickchartButtonEl.classList.add('colab-df-spinner');\n",
              "      try {\n",
              "        const charts = await google.colab.kernel.invokeFunction(\n",
              "            'suggestCharts', [key], {});\n",
              "      } catch (error) {\n",
              "        console.error('Error during call to suggestCharts:', error);\n",
              "      }\n",
              "      quickchartButtonEl.classList.remove('colab-df-spinner');\n",
              "      quickchartButtonEl.classList.add('colab-df-quickchart-complete');\n",
              "    }\n",
              "    (() => {\n",
              "      let quickchartButtonEl =\n",
              "        document.querySelector('#df-b2f454cd-5487-49e5-b1e3-e422c1348945 button');\n",
              "      quickchartButtonEl.style.display =\n",
              "        google.colab.kernel.accessAllowed ? 'block' : 'none';\n",
              "    })();\n",
              "  </script>\n",
              "</div>\n",
              "    </div>\n",
              "  </div>\n"
            ]
          },
          "metadata": {},
          "execution_count": 190
        }
      ],
      "source": [
        "pred_gd = np.dot(X_test_tilde, thetas_gd)\n",
        "pred_gd = np.floor(pred_gd*10)/10 # zaokrouhleni na jedno desetine misto\n",
        "\n",
        "pred_sklearn = reg_sklearn.predict(X_test)\n",
        "pred_sklearn = np.floor(pred_sklearn*10)/10 # zaokrouhleni na jedno desetine misto\n",
        "\n",
        "df_compare = pd.DataFrame({\n",
        "    'price': y_test,\n",
        "    'predicted_price_sklearn': pred_sklearn,\n",
        "    'difference_sklearn': (pred_sklearn - y_test),\n",
        "    'predicted_price_gd': pred_gd,\n",
        "    'difference_gd': (pred_gd - y_test),\n",
        "})\n",
        "\n",
        "df_compare.head(10)"
      ]
    },
    {
      "cell_type": "markdown",
      "metadata": {
        "id": "9q67wi_jdj-g"
      },
      "source": [
        "Pro srovnani si testovaci body zobrazime do grafu"
      ]
    },
    {
      "cell_type": "code",
      "execution_count": 191,
      "metadata": {
        "colab": {
          "base_uri": "https://localhost:8080/",
          "height": 472
        },
        "id": "1k4tPNyQdj-g",
        "outputId": "639bddba-1990-46f6-875e-c20f981b0e17"
      },
      "outputs": [
        {
          "output_type": "display_data",
          "data": {
            "text/plain": [
              "<Figure size 640x480 with 1 Axes>"
            ],
            "image/png": "[encoded data removed]"
          },
          "metadata": {}
        }
      ],
      "source": [
        "plt.scatter(df.basement_sf, df.price, marker='x', c='b', label='Skutecne')\n",
        "plt.scatter(X_test[:,0], y_test, marker='x', c='r', label='Skutecne testovaci')\n",
        "plt.scatter(X_test[:,0], df_compare.predicted_price_gd.values, marker='x', c='y', label='Predikce testovaci')\n",
        "plt.title('Cena v zavislosti na plose sklepa')\n",
        "plt.xlabel('basement_sf')\n",
        "plt.ylabel('price')\n",
        "plt.legend()\n",
        "plt.show()"
      ]
    },
    {
      "cell_type": "code",
      "execution_count": 192,
      "metadata": {
        "colab": {
          "base_uri": "https://localhost:8080/",
          "height": 472
        },
        "id": "B34wYJhIdj-g",
        "outputId": "3800a39e-78f6-4e2e-c127-2e9302759894"
      },
      "outputs": [
        {
          "output_type": "display_data",
          "data": {
            "text/plain": [
              "<Figure size 640x480 with 1 Axes>"
            ],
            "image/png": "[encoded data removed]"
          },
          "metadata": {}
        }
      ],
      "source": [
        "plt.scatter(df.living_area_sf, df.price, marker='x', c='g', label='Skutecne')\n",
        "plt.scatter(X_test[:,1], y_test, marker='x', c='r', label='Skutecne testovaci')\n",
        "plt.scatter(X_test[:,1], df_compare.predicted_price_gd.values, marker='x', c='y', label='Predikce testovaci')\n",
        "plt.title('Cena v zavislosti na nadzemni obytne plose')\n",
        "plt.xlabel('living_area_sf')\n",
        "plt.ylabel('price')\n",
        "plt.legend()\n",
        "plt.show()"
      ]
    },
    {
      "cell_type": "code",
      "execution_count": 192,
      "metadata": {
        "id": "MzACE4_Edj-h"
      },
      "outputs": [],
      "source": []
    }
  ],
  "metadata": {
    "kernelspec": {
      "display_name": "viroco",
      "language": "python",
      "name": "python3"
    },
    "language_info": {
      "codemirror_mode": {
        "name": "ipython",
        "version": 3
      },
      "file_extension": ".py",
      "mimetype": "text/x-python",
      "name": "python",
      "nbconvert_exporter": "python",
      "pygments_lexer": "ipython3",
      "version": "3.10.4"
    },
    "colab": {
      "provenance": []
    }
  },
  "nbformat": 4,
  "nbformat_minor": 0
}
